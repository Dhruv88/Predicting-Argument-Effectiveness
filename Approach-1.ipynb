{
 "cells": [
  {
   "cell_type": "code",
   "execution_count": 1,
   "id": "15a667b0",
   "metadata": {
    "_cell_guid": "b1076dfc-b9ad-4769-8c92-a6c4dae69d19",
    "_kg_hide-output": false,
    "_uuid": "8f2839f25d086af736a60e9eeb907d3b93b6e0e5",
    "execution": {
     "iopub.execute_input": "2022-11-17T07:48:40.951749Z",
     "iopub.status.busy": "2022-11-17T07:48:40.951197Z",
     "iopub.status.idle": "2022-11-17T07:48:40.962451Z",
     "shell.execute_reply": "2022-11-17T07:48:40.961654Z"
    },
    "papermill": {
     "duration": 0.020609,
     "end_time": "2022-11-17T07:48:40.964429",
     "exception": false,
     "start_time": "2022-11-17T07:48:40.943820",
     "status": "completed"
    },
    "tags": []
   },
   "outputs": [],
   "source": [
    "# This Python 3 environment comes with many helpful analytics libraries installed\n",
    "# It is defined by the kaggle/python Docker image: https://github.com/kaggle/docker-python\n",
    "# For example, here's several helpful packages to load\n",
    "\n",
    "import numpy as np # linear algebra\n",
    "import pandas as pd # data processing, CSV file I/O (e.g. pd.read_csv)\n",
    "\n",
    "# Input data files are available in the read-only \"../input/\" directory\n",
    "# For example, running this (by clicking run or pressing Shift+Enter) will list all files under the input directory\n",
    "\n",
    "import os\n",
    "# for dirname, _, filenames in os.walk('/kaggle/input'):\n",
    "#     for filename in filenames:\n",
    "#         print(os.path.join(dirname, filename))\n",
    "\n",
    "# You can write up to 20GB to the current directory (/kaggle/working/) that gets preserved as output when you create a version using \"Save & Run All\" \n",
    "# You can also write temporary files to /kaggle/temp/, but they won't be saved outside of the current session"
   ]
  },
  {
   "cell_type": "code",
   "execution_count": 2,
   "id": "a5b0722a",
   "metadata": {
    "execution": {
     "iopub.execute_input": "2022-11-17T07:48:40.974936Z",
     "iopub.status.busy": "2022-11-17T07:48:40.974206Z",
     "iopub.status.idle": "2022-11-17T07:48:40.982000Z",
     "shell.execute_reply": "2022-11-17T07:48:40.981121Z"
    },
    "papermill": {
     "duration": 0.014888,
     "end_time": "2022-11-17T07:48:40.983934",
     "exception": false,
     "start_time": "2022-11-17T07:48:40.969046",
     "status": "completed"
    },
    "tags": []
   },
   "outputs": [],
   "source": [
    "def read_glove_vecs(glove_file):\n",
    "    with open(glove_file, 'r') as f:\n",
    "        words = set()\n",
    "        word_to_vec_map = {}\n",
    "        for line in f:\n",
    "            line = line.strip().split()\n",
    "            curr_word = line[0]\n",
    "            words.add(curr_word)\n",
    "            word_to_vec_map[curr_word] = np.array(line[1:], dtype=np.float64)\n",
    "        \n",
    "        i = 1\n",
    "        words_to_index = {}\n",
    "        index_to_words = {}\n",
    "        for w in sorted(words):\n",
    "            words_to_index[w] = i\n",
    "            index_to_words[i] = w\n",
    "            i = i + 1\n",
    "    return words_to_index, index_to_words, word_to_vec_map\n",
    "\n",
    "def softmax(x):\n",
    "    \"\"\"Compute softmax values for each sets of scores in x.\"\"\"\n",
    "    e_x = np.exp(x - np.max(x))\n",
    "    return e_x / e_x.sum()\n",
    "\n",
    "\n",
    "def convert_to_one_hot(Y, C):\n",
    "    Y = np.eye(C)[Y.reshape(-1)]\n",
    "    return Y"
   ]
  },
  {
   "cell_type": "code",
   "execution_count": 3,
   "id": "d897a825",
   "metadata": {
    "execution": {
     "iopub.execute_input": "2022-11-17T07:48:40.993638Z",
     "iopub.status.busy": "2022-11-17T07:48:40.993367Z",
     "iopub.status.idle": "2022-11-17T07:48:41.273289Z",
     "shell.execute_reply": "2022-11-17T07:48:41.272378Z"
    },
    "papermill": {
     "duration": 0.287305,
     "end_time": "2022-11-17T07:48:41.275569",
     "exception": false,
     "start_time": "2022-11-17T07:48:40.988264",
     "status": "completed"
    },
    "tags": []
   },
   "outputs": [
    {
     "data": {
      "text/html": [
       "<div>\n",
       "<style scoped>\n",
       "    .dataframe tbody tr th:only-of-type {\n",
       "        vertical-align: middle;\n",
       "    }\n",
       "\n",
       "    .dataframe tbody tr th {\n",
       "        vertical-align: top;\n",
       "    }\n",
       "\n",
       "    .dataframe thead th {\n",
       "        text-align: right;\n",
       "    }\n",
       "</style>\n",
       "<table border=\"1\" class=\"dataframe\">\n",
       "  <thead>\n",
       "    <tr style=\"text-align: right;\">\n",
       "      <th></th>\n",
       "      <th>discourse_id</th>\n",
       "      <th>essay_id</th>\n",
       "      <th>discourse_text</th>\n",
       "      <th>discourse_type</th>\n",
       "      <th>discourse_effectiveness</th>\n",
       "    </tr>\n",
       "  </thead>\n",
       "  <tbody>\n",
       "    <tr>\n",
       "      <th>0</th>\n",
       "      <td>0013cc385424</td>\n",
       "      <td>007ACE74B050</td>\n",
       "      <td>Hi, i'm Isaac, i'm going to be writing about h...</td>\n",
       "      <td>Lead</td>\n",
       "      <td>Adequate</td>\n",
       "    </tr>\n",
       "    <tr>\n",
       "      <th>1</th>\n",
       "      <td>9704a709b505</td>\n",
       "      <td>007ACE74B050</td>\n",
       "      <td>On my perspective, I think that the face is a ...</td>\n",
       "      <td>Position</td>\n",
       "      <td>Adequate</td>\n",
       "    </tr>\n",
       "    <tr>\n",
       "      <th>2</th>\n",
       "      <td>c22adee811b6</td>\n",
       "      <td>007ACE74B050</td>\n",
       "      <td>I think that the face is a natural landform be...</td>\n",
       "      <td>Claim</td>\n",
       "      <td>Adequate</td>\n",
       "    </tr>\n",
       "    <tr>\n",
       "      <th>3</th>\n",
       "      <td>a10d361e54e4</td>\n",
       "      <td>007ACE74B050</td>\n",
       "      <td>If life was on Mars, we would know by now. The...</td>\n",
       "      <td>Evidence</td>\n",
       "      <td>Adequate</td>\n",
       "    </tr>\n",
       "    <tr>\n",
       "      <th>4</th>\n",
       "      <td>db3e453ec4e2</td>\n",
       "      <td>007ACE74B050</td>\n",
       "      <td>People thought that the face was formed by ali...</td>\n",
       "      <td>Counterclaim</td>\n",
       "      <td>Adequate</td>\n",
       "    </tr>\n",
       "    <tr>\n",
       "      <th>...</th>\n",
       "      <td>...</td>\n",
       "      <td>...</td>\n",
       "      <td>...</td>\n",
       "      <td>...</td>\n",
       "      <td>...</td>\n",
       "    </tr>\n",
       "    <tr>\n",
       "      <th>36760</th>\n",
       "      <td>9f63b687e76a</td>\n",
       "      <td>FFA381E58FC6</td>\n",
       "      <td>For many people they don't like only asking on...</td>\n",
       "      <td>Claim</td>\n",
       "      <td>Adequate</td>\n",
       "    </tr>\n",
       "    <tr>\n",
       "      <th>36761</th>\n",
       "      <td>9d5bd7d86212</td>\n",
       "      <td>FFA381E58FC6</td>\n",
       "      <td>also people have different views and opinions ...</td>\n",
       "      <td>Claim</td>\n",
       "      <td>Adequate</td>\n",
       "    </tr>\n",
       "    <tr>\n",
       "      <th>36762</th>\n",
       "      <td>f1b78becd573</td>\n",
       "      <td>FFA381E58FC6</td>\n",
       "      <td>Advice is something that can impact a persons ...</td>\n",
       "      <td>Position</td>\n",
       "      <td>Adequate</td>\n",
       "    </tr>\n",
       "    <tr>\n",
       "      <th>36763</th>\n",
       "      <td>cc184624ca8e</td>\n",
       "      <td>FFA381E58FC6</td>\n",
       "      <td>someone can use everything that many people sa...</td>\n",
       "      <td>Evidence</td>\n",
       "      <td>Ineffective</td>\n",
       "    </tr>\n",
       "    <tr>\n",
       "      <th>36764</th>\n",
       "      <td>c8a973681feb</td>\n",
       "      <td>FFA381E58FC6</td>\n",
       "      <td>In conclusion asking for an opinion can be ben...</td>\n",
       "      <td>Concluding Statement</td>\n",
       "      <td>Ineffective</td>\n",
       "    </tr>\n",
       "  </tbody>\n",
       "</table>\n",
       "<p>36765 rows × 5 columns</p>\n",
       "</div>"
      ],
      "text/plain": [
       "       discourse_id      essay_id  \\\n",
       "0      0013cc385424  007ACE74B050   \n",
       "1      9704a709b505  007ACE74B050   \n",
       "2      c22adee811b6  007ACE74B050   \n",
       "3      a10d361e54e4  007ACE74B050   \n",
       "4      db3e453ec4e2  007ACE74B050   \n",
       "...             ...           ...   \n",
       "36760  9f63b687e76a  FFA381E58FC6   \n",
       "36761  9d5bd7d86212  FFA381E58FC6   \n",
       "36762  f1b78becd573  FFA381E58FC6   \n",
       "36763  cc184624ca8e  FFA381E58FC6   \n",
       "36764  c8a973681feb  FFA381E58FC6   \n",
       "\n",
       "                                          discourse_text  \\\n",
       "0      Hi, i'm Isaac, i'm going to be writing about h...   \n",
       "1      On my perspective, I think that the face is a ...   \n",
       "2      I think that the face is a natural landform be...   \n",
       "3      If life was on Mars, we would know by now. The...   \n",
       "4      People thought that the face was formed by ali...   \n",
       "...                                                  ...   \n",
       "36760  For many people they don't like only asking on...   \n",
       "36761  also people have different views and opinions ...   \n",
       "36762  Advice is something that can impact a persons ...   \n",
       "36763  someone can use everything that many people sa...   \n",
       "36764  In conclusion asking for an opinion can be ben...   \n",
       "\n",
       "             discourse_type discourse_effectiveness  \n",
       "0                      Lead                Adequate  \n",
       "1                  Position                Adequate  \n",
       "2                     Claim                Adequate  \n",
       "3                  Evidence                Adequate  \n",
       "4              Counterclaim                Adequate  \n",
       "...                     ...                     ...  \n",
       "36760                 Claim                Adequate  \n",
       "36761                 Claim                Adequate  \n",
       "36762              Position                Adequate  \n",
       "36763              Evidence             Ineffective  \n",
       "36764  Concluding Statement             Ineffective  \n",
       "\n",
       "[36765 rows x 5 columns]"
      ]
     },
     "execution_count": 3,
     "metadata": {},
     "output_type": "execute_result"
    }
   ],
   "source": [
    "train_data = pd.read_csv('/kaggle/input/feedback-prize-effectiveness/train.csv')\n",
    "train_data"
   ]
  },
  {
   "cell_type": "code",
   "execution_count": 4,
   "id": "6963f827",
   "metadata": {
    "execution": {
     "iopub.execute_input": "2022-11-17T07:48:41.287774Z",
     "iopub.status.busy": "2022-11-17T07:48:41.287412Z",
     "iopub.status.idle": "2022-11-17T07:48:41.319752Z",
     "shell.execute_reply": "2022-11-17T07:48:41.318721Z"
    },
    "papermill": {
     "duration": 0.041188,
     "end_time": "2022-11-17T07:48:41.322198",
     "exception": false,
     "start_time": "2022-11-17T07:48:41.281010",
     "status": "completed"
    },
    "tags": []
   },
   "outputs": [
    {
     "data": {
      "text/plain": [
       "0        0\n",
       "1        0\n",
       "2        0\n",
       "3        0\n",
       "4        0\n",
       "        ..\n",
       "36760    0\n",
       "36761    0\n",
       "36762    0\n",
       "36763    2\n",
       "36764    2\n",
       "Name: new_eff, Length: 36765, dtype: int8"
      ]
     },
     "execution_count": 4,
     "metadata": {},
     "output_type": "execute_result"
    }
   ],
   "source": [
    "train_data['discourse_effectiveness'] = train_data['discourse_effectiveness'].astype('category')\n",
    "train_data['new_eff'] = train_data['discourse_effectiveness'].cat.codes\n",
    "train_data['discourse_type'] = train_data['discourse_type'].astype('category')\n",
    "train_data['new_type'] = train_data['discourse_type'].cat.codes                                                   \n",
    "train_X = train_data.copy()\n",
    "train_Y = train_X.pop('new_eff')\n",
    "train_X2 = train_X.pop('new_type')\n",
    "train_X.pop('discourse_effectiveness')\n",
    "train_X.pop('discourse_type')\n",
    "train_X.pop('essay_id')\n",
    "train_X.pop('discourse_id')\n",
    "train_Y"
   ]
  },
  {
   "cell_type": "code",
   "execution_count": 5,
   "id": "df597fae",
   "metadata": {
    "execution": {
     "iopub.execute_input": "2022-11-17T07:48:41.333839Z",
     "iopub.status.busy": "2022-11-17T07:48:41.333554Z",
     "iopub.status.idle": "2022-11-17T07:48:41.345011Z",
     "shell.execute_reply": "2022-11-17T07:48:41.343429Z"
    },
    "papermill": {
     "duration": 0.02051,
     "end_time": "2022-11-17T07:48:41.347850",
     "exception": false,
     "start_time": "2022-11-17T07:48:41.327340",
     "status": "completed"
    },
    "tags": []
   },
   "outputs": [
    {
     "data": {
      "text/plain": [
       "array([[1., 0., 0.],\n",
       "       [1., 0., 0.],\n",
       "       [1., 0., 0.],\n",
       "       ...,\n",
       "       [1., 0., 0.],\n",
       "       [0., 0., 1.],\n",
       "       [0., 0., 1.]])"
      ]
     },
     "execution_count": 5,
     "metadata": {},
     "output_type": "execute_result"
    }
   ],
   "source": [
    "train_X = np.array(train_X)\n",
    "train_Y = np.array(train_Y)\n",
    "train_X2 = np.array(train_X2)\n",
    "train_Y = convert_to_one_hot(train_Y, 3)\n",
    "train_X2 = convert_to_one_hot(train_X2, 7)\n",
    "train_Y"
   ]
  },
  {
   "cell_type": "code",
   "execution_count": 6,
   "id": "30916395",
   "metadata": {
    "execution": {
     "iopub.execute_input": "2022-11-17T07:48:41.360055Z",
     "iopub.status.busy": "2022-11-17T07:48:41.359756Z",
     "iopub.status.idle": "2022-11-17T07:48:41.370302Z",
     "shell.execute_reply": "2022-11-17T07:48:41.369436Z"
    },
    "papermill": {
     "duration": 0.019266,
     "end_time": "2022-11-17T07:48:41.372504",
     "exception": false,
     "start_time": "2022-11-17T07:48:41.353238",
     "status": "completed"
    },
    "tags": []
   },
   "outputs": [
    {
     "data": {
      "text/plain": [
       "836"
      ]
     },
     "execution_count": 6,
     "metadata": {},
     "output_type": "execute_result"
    }
   ],
   "source": [
    "train_X = np.reshape(train_X, (train_X.shape[0],))\n",
    "maxLen = len(max(train_X, key=len).split())\n",
    "maxLen"
   ]
  },
  {
   "cell_type": "code",
   "execution_count": 7,
   "id": "3d8516de",
   "metadata": {
    "execution": {
     "iopub.execute_input": "2022-11-17T07:48:41.383467Z",
     "iopub.status.busy": "2022-11-17T07:48:41.383198Z",
     "iopub.status.idle": "2022-11-17T07:48:51.490806Z",
     "shell.execute_reply": "2022-11-17T07:48:51.489699Z"
    },
    "papermill": {
     "duration": 10.116253,
     "end_time": "2022-11-17T07:48:51.493589",
     "exception": false,
     "start_time": "2022-11-17T07:48:41.377336",
     "status": "completed"
    },
    "tags": []
   },
   "outputs": [],
   "source": [
    "word_to_index, index_to_word, word_to_vec_map = read_glove_vecs('/kaggle/input/glovedata/glove.6B.100d.txt')"
   ]
  },
  {
   "cell_type": "code",
   "execution_count": 8,
   "id": "77c3f4b2",
   "metadata": {
    "execution": {
     "iopub.execute_input": "2022-11-17T07:48:51.506161Z",
     "iopub.status.busy": "2022-11-17T07:48:51.505814Z",
     "iopub.status.idle": "2022-11-17T07:48:56.951707Z",
     "shell.execute_reply": "2022-11-17T07:48:56.950668Z"
    },
    "papermill": {
     "duration": 5.4547,
     "end_time": "2022-11-17T07:48:56.954165",
     "exception": false,
     "start_time": "2022-11-17T07:48:51.499465",
     "status": "completed"
    },
    "tags": []
   },
   "outputs": [],
   "source": [
    "import numpy as np\n",
    "import tensorflow\n",
    "np.random.seed(0)\n",
    "from tensorflow.keras.models import Model\n",
    "from tensorflow.keras.layers import Dense, Input, Dropout, LSTM, Activation, Concatenate, Bidirectional\n",
    "from tensorflow.keras.layers import Embedding\n",
    "from tensorflow.keras.preprocessing import sequence\n",
    "from tensorflow.keras.initializers import glorot_uniform\n",
    "np.random.seed(1)"
   ]
  },
  {
   "cell_type": "code",
   "execution_count": 9,
   "id": "b5fa9047",
   "metadata": {
    "execution": {
     "iopub.execute_input": "2022-11-17T07:48:56.969070Z",
     "iopub.status.busy": "2022-11-17T07:48:56.968037Z",
     "iopub.status.idle": "2022-11-17T07:49:01.834353Z",
     "shell.execute_reply": "2022-11-17T07:49:01.833386Z"
    },
    "papermill": {
     "duration": 4.877275,
     "end_time": "2022-11-17T07:49:01.838465",
     "exception": false,
     "start_time": "2022-11-17T07:48:56.961190",
     "status": "completed"
    },
    "tags": []
   },
   "outputs": [
    {
     "name": "stderr",
     "output_type": "stream",
     "text": [
      "2022-11-17 07:48:57.840493: I tensorflow/stream_executor/cuda/cuda_gpu_executor.cc:937] successful NUMA node read from SysFS had negative value (-1), but there must be at least one NUMA node, so returning NUMA node zero\n",
      "2022-11-17 07:48:57.939299: I tensorflow/stream_executor/cuda/cuda_gpu_executor.cc:937] successful NUMA node read from SysFS had negative value (-1), but there must be at least one NUMA node, so returning NUMA node zero\n",
      "2022-11-17 07:48:57.940105: I tensorflow/stream_executor/cuda/cuda_gpu_executor.cc:937] successful NUMA node read from SysFS had negative value (-1), but there must be at least one NUMA node, so returning NUMA node zero\n",
      "2022-11-17 07:48:57.941309: I tensorflow/core/platform/cpu_feature_guard.cc:142] This TensorFlow binary is optimized with oneAPI Deep Neural Network Library (oneDNN) to use the following CPU instructions in performance-critical operations:  AVX2 AVX512F FMA\n",
      "To enable them in other operations, rebuild TensorFlow with the appropriate compiler flags.\n",
      "2022-11-17 07:48:57.947538: I tensorflow/stream_executor/cuda/cuda_gpu_executor.cc:937] successful NUMA node read from SysFS had negative value (-1), but there must be at least one NUMA node, so returning NUMA node zero\n",
      "2022-11-17 07:48:57.948233: I tensorflow/stream_executor/cuda/cuda_gpu_executor.cc:937] successful NUMA node read from SysFS had negative value (-1), but there must be at least one NUMA node, so returning NUMA node zero\n",
      "2022-11-17 07:48:57.948918: I tensorflow/stream_executor/cuda/cuda_gpu_executor.cc:937] successful NUMA node read from SysFS had negative value (-1), but there must be at least one NUMA node, so returning NUMA node zero\n",
      "2022-11-17 07:49:00.321446: I tensorflow/stream_executor/cuda/cuda_gpu_executor.cc:937] successful NUMA node read from SysFS had negative value (-1), but there must be at least one NUMA node, so returning NUMA node zero\n",
      "2022-11-17 07:49:00.322281: I tensorflow/stream_executor/cuda/cuda_gpu_executor.cc:937] successful NUMA node read from SysFS had negative value (-1), but there must be at least one NUMA node, so returning NUMA node zero\n",
      "2022-11-17 07:49:00.322934: I tensorflow/stream_executor/cuda/cuda_gpu_executor.cc:937] successful NUMA node read from SysFS had negative value (-1), but there must be at least one NUMA node, so returning NUMA node zero\n",
      "2022-11-17 07:49:00.323521: I tensorflow/core/common_runtime/gpu/gpu_device.cc:1510] Created device /job:localhost/replica:0/task:0/device:GPU:0 with 15401 MB memory:  -> device: 0, name: Tesla P100-PCIE-16GB, pci bus id: 0000:00:04.0, compute capability: 6.0\n"
     ]
    },
    {
     "name": "stdout",
     "output_type": "stream",
     "text": [
      "Model: \"model\"\n",
      "__________________________________________________________________________________________________\n",
      "Layer (type)                    Output Shape         Param #     Connected to                     \n",
      "==================================================================================================\n",
      "input_1 (InputLayer)            [(None, 843)]        0                                            \n",
      "__________________________________________________________________________________________________\n",
      "tf.split (TFOpLambda)           [(None, 836), (None, 0           input_1[0][0]                    \n",
      "__________________________________________________________________________________________________\n",
      "embedding (Embedding)           (None, 836, 100)     40000100    tf.split[0][0]                   \n",
      "__________________________________________________________________________________________________\n",
      "bidirectional (Bidirectional)   (None, 836, 256)     234496      embedding[0][0]                  \n",
      "__________________________________________________________________________________________________\n",
      "dropout (Dropout)               (None, 836, 256)     0           bidirectional[0][0]              \n",
      "__________________________________________________________________________________________________\n",
      "lstm_1 (LSTM)                   (None, 128)          197120      dropout[0][0]                    \n",
      "__________________________________________________________________________________________________\n",
      "dense (Dense)                   (None, 64)           8256        lstm_1[0][0]                     \n",
      "__________________________________________________________________________________________________\n",
      "tf.cast (TFOpLambda)            (None, 7)            0           tf.split[0][1]                   \n",
      "__________________________________________________________________________________________________\n",
      "concatenate (Concatenate)       (None, 71)           0           dense[0][0]                      \n",
      "                                                                 tf.cast[0][0]                    \n",
      "__________________________________________________________________________________________________\n",
      "dense_1 (Dense)                 (None, 7)            504         concatenate[0][0]                \n",
      "__________________________________________________________________________________________________\n",
      "dense_2 (Dense)                 (None, 3)            24          dense_1[0][0]                    \n",
      "__________________________________________________________________________________________________\n",
      "activation (Activation)         (None, 3)            0           dense_2[0][0]                    \n",
      "==================================================================================================\n",
      "Total params: 40,440,500\n",
      "Trainable params: 440,400\n",
      "Non-trainable params: 40,000,100\n",
      "__________________________________________________________________________________________________\n"
     ]
    }
   ],
   "source": [
    "def sentences_to_indices(X, word_to_index, max_len, train_X2):\n",
    "    \"\"\"\n",
    "    Converts an array of sentences (strings) into an array of indices corresponding to words in the sentences.\n",
    "    The output shape should be such that it can be given to `Embedding()` (described in Figure 4). \n",
    "    \n",
    "    Arguments:\n",
    "    X -- array of sentences (strings), of shape (m,)\n",
    "    word_to_index -- a dictionary containing the each word mapped to its index\n",
    "    max_len -- maximum number of words in a sentence. You can assume every sentence in X is no longer than this. \n",
    "    \n",
    "    Returns:\n",
    "    X_indices -- array of indices corresponding to words in the sentences from X, of shape (m, max_len)\n",
    "    \"\"\"\n",
    "    \n",
    "    m = X.shape[0]                                   # number of training examples\n",
    "    \n",
    "    # Initialize X_indices as a numpy matrix of zeros and the correct shape (≈ 1 line)\n",
    "    X_indices = np.zeros([m,max_len])\n",
    "    X_final = np.zeros([m,maxLen+7])\n",
    "    print(X_indices.shape)\n",
    "    \n",
    "    for i in range(m):                               # loop over training examples\n",
    "        \n",
    "        # Convert the ith training sentence in lower case and split is into words. You should get a list of words.\n",
    "        sentence_words = X[i].lower().split()\n",
    "        \n",
    "        # Initialize j to 0\n",
    "        j = 0\n",
    "        \n",
    "        # Loop over the words of sentence_words\n",
    "\n",
    "        for w in sentence_words:\n",
    "            # if w exists in the word_to_index dictionary\n",
    "            if w in word_to_index:\n",
    "                # Set the (i,j)th entry of X_indices to the index of the correct word.\n",
    "                X_indices[i, j] = word_to_index[w]\n",
    "                # Increment j to j + 1\n",
    "                j =  j+1\n",
    "#         print(X_indices[i].shape)\n",
    "#         print(train_X2[i].shape)\n",
    "        X_final[i] = np.concatenate((X_indices[i], train_X2[i]), axis=0)\n",
    "#         print(X_final.shape)\n",
    "            \n",
    "    return X_final\n",
    "\n",
    "def pretrained_embedding_layer(word_to_vec_map, word_to_index):\n",
    "    \"\"\"\n",
    "    Creates a Keras Embedding() layer and loads in pre-trained GloVe 50-dimensional vectors.\n",
    "    \n",
    "    Arguments:\n",
    "    word_to_vec_map -- dictionary mapping words to their GloVe vector representation.\n",
    "    word_to_index -- dictionary mapping from words to their indices in the vocabulary (400,001 words)\n",
    "\n",
    "    Returns:\n",
    "    embedding_layer -- pretrained layer Keras instance\n",
    "    \"\"\"\n",
    "    \n",
    "    vocab_size = len(word_to_index) + 1              # adding 1 to fit Keras embedding (requirement)\n",
    "    any_word = list(word_to_vec_map.keys())[0]\n",
    "    emb_dim = word_to_vec_map[any_word].shape[0]    # define dimensionality of your GloVe word vectors (= 50)\n",
    "      \n",
    "    # Initialize the embedding matrix as a numpy array of zeros.\n",
    "    # See instructions above to choose the correct shape.\n",
    "    emb_matrix = np.zeros((vocab_size,emb_dim))\n",
    "    \n",
    "    # Set each row \"idx\" of the embedding matrix to be \n",
    "    # the word vector representation of the idx'th word of the vocabulary\n",
    "    for word, idx in word_to_index.items():\n",
    "        emb_matrix[idx, :] = word_to_vec_map[word]\n",
    "\n",
    "    # Define Keras embedding layer with the correct input and output sizes\n",
    "    # Make it non-trainable.\n",
    "    embedding_layer = Embedding(input_dim = vocab_size, output_dim = emb_dim, trainable=False)\n",
    "    ### END CODE HERE ###\n",
    "\n",
    "    # Build the embedding layer, it is required before setting the weights of the embedding layer. \n",
    "    embedding_layer.build((None,))\n",
    "    \n",
    "    # Set the weights of the embedding layer to the embedding matrix. Your layer is now pretrained.\n",
    "    embedding_layer.set_weights([emb_matrix])\n",
    "    \n",
    "    return embedding_layer\n",
    "\n",
    "\n",
    "\n",
    "def ArgEff_Net(input_shape, word_to_vec_map, word_to_index):\n",
    "    \"\"\"\n",
    "    Function creating the Emojify-v2 model's graph.\n",
    "    \n",
    "    Arguments:\n",
    "    input_shape -- shape of the input, usually (max_len,)\n",
    "    word_to_vec_map -- dictionary mapping every word in a vocabulary into its 50-dimensional vector representation\n",
    "    word_to_index -- dictionary mapping from words to their indices in the vocabulary (400,001 words)\n",
    "\n",
    "    Returns:\n",
    "    model -- a model instance in Keras\n",
    "    \"\"\"\n",
    "    # Define sentence_indices as the input of the graph.\n",
    "    # It should be of shape input_shape and dtype 'int32' (as it contains indices, which are integers).\n",
    "    sentence_indices = Input(shape=input_shape, dtype='int32')\n",
    "    \n",
    "    # Create the embedding layer pretrained with GloVe Vectors (≈1 line)\n",
    "    embedding_layer = pretrained_embedding_layer(word_to_vec_map, word_to_index)\n",
    "    \n",
    "    X1, X2 = tensorflow.split(sentence_indices, [836, 7], 1)\n",
    "    X2 = tensorflow.cast(X2, tensorflow.float32)\n",
    "    \n",
    "    # Propagate sentence_indices through your embedding layer\n",
    "    embeddings = embedding_layer(X1)   \n",
    "    # Propagate the embeddings through an LSTM layer with 128-dimensional hidden state\n",
    "    # The returned output should be a batch of sequences.\n",
    "    X = Bidirectional(LSTM(units=128, return_sequences=True))(embeddings)\n",
    "    # Add dropout with a probability of 0.5\n",
    "    X = Dropout(rate=0.5)(X) \n",
    "    # Propagate X trough another LSTM layer with 128-dimensional hidden state\n",
    "    # The returned output should be a single hidden state, not a batch of sequences.\n",
    "    X = LSTM(units=128, return_sequences=False)(X)\n",
    "    # Add dropout with a probability of 0.5\n",
    "#     X = Dropout(0.5)(X)\n",
    "    # Propagate X through a Dense layer with 5 units\n",
    "    X = Dense(units=64)(X)\n",
    "    X = Concatenate(axis=1)([X,X2])\n",
    "    X = Dense(units=7)(X)\n",
    "    # Concatanate the discourse_type one-hot encodings with the 5 component output\n",
    "    # 3 units for 3 types of ardument effectiveness\n",
    "    X = Dense(units=3)(X)\n",
    "    # Output the probability\n",
    "    X = Activation('softmax')(X)\n",
    "    # Create Model instance which converts sentence_indices into X.\n",
    "    model = Model(inputs = sentence_indices, outputs = X)\n",
    "    \n",
    "    return model\n",
    "\n",
    "model = ArgEff_Net((maxLen+7,), word_to_vec_map, word_to_index)\n",
    "model.summary()\n",
    "model.compile(loss='categorical_crossentropy', optimizer='adam', metrics=[tensorflow.keras.metrics.CategoricalCrossentropy()])"
   ]
  },
  {
   "cell_type": "code",
   "execution_count": 10,
   "id": "5b10673d",
   "metadata": {
    "execution": {
     "iopub.execute_input": "2022-11-17T07:49:01.857134Z",
     "iopub.status.busy": "2022-11-17T07:49:01.856805Z",
     "iopub.status.idle": "2022-11-17T07:49:03.071606Z",
     "shell.execute_reply": "2022-11-17T07:49:03.070575Z"
    },
    "papermill": {
     "duration": 1.223789,
     "end_time": "2022-11-17T07:49:03.073722",
     "exception": false,
     "start_time": "2022-11-17T07:49:01.849933",
     "status": "completed"
    },
    "tags": []
   },
   "outputs": [
    {
     "name": "stdout",
     "output_type": "stream",
     "text": [
      "(36765, 836)\n"
     ]
    },
    {
     "data": {
      "text/plain": [
       "array([[1.63745e+05, 3.60915e+05, 7.10900e+04, ..., 1.00000e+00,\n",
       "        0.00000e+00, 0.00000e+00],\n",
       "       [2.69798e+05, 2.54258e+05, 1.85457e+05, ..., 0.00000e+00,\n",
       "        1.00000e+00, 0.00000e+00],\n",
       "       [1.85457e+05, 3.57970e+05, 3.57212e+05, ..., 0.00000e+00,\n",
       "        0.00000e+00, 0.00000e+00],\n",
       "       ...,\n",
       "       [4.70680e+04, 1.92973e+05, 3.37302e+05, ..., 0.00000e+00,\n",
       "        1.00000e+00, 0.00000e+00],\n",
       "       [3.37267e+05, 9.05480e+04, 3.74163e+05, ..., 0.00000e+00,\n",
       "        0.00000e+00, 0.00000e+00],\n",
       "       [1.88481e+05, 1.06807e+05, 6.12900e+04, ..., 0.00000e+00,\n",
       "        0.00000e+00, 0.00000e+00]])"
      ]
     },
     "execution_count": 10,
     "metadata": {},
     "output_type": "execute_result"
    }
   ],
   "source": [
    "X_train_indices = sentences_to_indices(train_X, word_to_index, maxLen, train_X2)\n",
    "X_train_indices"
   ]
  },
  {
   "cell_type": "code",
   "execution_count": 11,
   "id": "20df3c1d",
   "metadata": {
    "execution": {
     "iopub.execute_input": "2022-11-17T07:49:03.085622Z",
     "iopub.status.busy": "2022-11-17T07:49:03.085305Z",
     "iopub.status.idle": "2022-11-17T07:49:03.789210Z",
     "shell.execute_reply": "2022-11-17T07:49:03.788080Z"
    },
    "papermill": {
     "duration": 0.712895,
     "end_time": "2022-11-17T07:49:03.792006",
     "exception": false,
     "start_time": "2022-11-17T07:49:03.079111",
     "status": "completed"
    },
    "tags": []
   },
   "outputs": [],
   "source": [
    "from sklearn.model_selection import train_test_split\n",
    "X_trainf, X_testf, y_trainf, y_testf = train_test_split(X_train_indices, train_Y, test_size=0.2)"
   ]
  },
  {
   "cell_type": "code",
   "execution_count": 12,
   "id": "5dd613a4",
   "metadata": {
    "execution": {
     "iopub.execute_input": "2022-11-17T07:49:03.805467Z",
     "iopub.status.busy": "2022-11-17T07:49:03.805173Z",
     "iopub.status.idle": "2022-11-17T08:22:29.910551Z",
     "shell.execute_reply": "2022-11-17T08:22:29.909447Z"
    },
    "papermill": {
     "duration": 2007.120043,
     "end_time": "2022-11-17T08:22:30.918474",
     "exception": false,
     "start_time": "2022-11-17T07:49:03.798431",
     "status": "completed"
    },
    "tags": []
   },
   "outputs": [
    {
     "name": "stderr",
     "output_type": "stream",
     "text": [
      "2022-11-17 07:49:04.085500: I tensorflow/compiler/mlir/mlir_graph_optimization_pass.cc:185] None of the MLIR Optimization Passes are enabled (registered 2)\n"
     ]
    },
    {
     "name": "stdout",
     "output_type": "stream",
     "text": [
      "Epoch 1/9\n"
     ]
    },
    {
     "name": "stderr",
     "output_type": "stream",
     "text": [
      "2022-11-17 07:49:08.832055: I tensorflow/stream_executor/cuda/cuda_dnn.cc:369] Loaded cuDNN version 8005\n"
     ]
    },
    {
     "name": "stdout",
     "output_type": "stream",
     "text": [
      "1961/1961 [==============================] - 227s 113ms/step - loss: 0.9639 - categorical_crossentropy: 0.9639 - val_loss: 0.9616 - val_categorical_crossentropy: 0.9616\n",
      "Epoch 2/9\n",
      "1961/1961 [==============================] - 219s 112ms/step - loss: 0.9592 - categorical_crossentropy: 0.9592 - val_loss: 0.9616 - val_categorical_crossentropy: 0.9616\n",
      "Epoch 3/9\n",
      "1961/1961 [==============================] - 220s 112ms/step - loss: 0.9590 - categorical_crossentropy: 0.9590 - val_loss: 0.9615 - val_categorical_crossentropy: 0.9615\n",
      "Epoch 4/9\n",
      "1961/1961 [==============================] - 219s 112ms/step - loss: 0.9588 - categorical_crossentropy: 0.9588 - val_loss: 0.9615 - val_categorical_crossentropy: 0.9615\n",
      "Epoch 5/9\n",
      "1961/1961 [==============================] - 219s 112ms/step - loss: 0.9587 - categorical_crossentropy: 0.9587 - val_loss: 0.9615 - val_categorical_crossentropy: 0.9615\n",
      "Epoch 6/9\n",
      "1961/1961 [==============================] - 220s 112ms/step - loss: 0.9586 - categorical_crossentropy: 0.9586 - val_loss: 0.9614 - val_categorical_crossentropy: 0.9614\n",
      "Epoch 7/9\n",
      "1961/1961 [==============================] - 220s 112ms/step - loss: 0.9585 - categorical_crossentropy: 0.9585 - val_loss: 0.9614 - val_categorical_crossentropy: 0.9614\n",
      "Epoch 8/9\n",
      "1961/1961 [==============================] - 220s 112ms/step - loss: 0.9585 - categorical_crossentropy: 0.9585 - val_loss: 0.9614 - val_categorical_crossentropy: 0.9614\n",
      "Epoch 9/9\n",
      "1961/1961 [==============================] - 220s 112ms/step - loss: 0.9584 - categorical_crossentropy: 0.9584 - val_loss: 0.9614 - val_categorical_crossentropy: 0.9614\n"
     ]
    },
    {
     "data": {
      "text/plain": [
       "<keras.callbacks.History at 0x7f50734fdf50>"
      ]
     },
     "execution_count": 12,
     "metadata": {},
     "output_type": "execute_result"
    }
   ],
   "source": [
    "model.fit(X_trainf, y_trainf, validation_data=(X_testf, y_testf), epochs = 9, batch_size = 15, shuffle=False)"
   ]
  },
  {
   "cell_type": "code",
   "execution_count": 13,
   "id": "ccee6a3d",
   "metadata": {
    "execution": {
     "iopub.execute_input": "2022-11-17T08:22:32.871892Z",
     "iopub.status.busy": "2022-11-17T08:22:32.871527Z",
     "iopub.status.idle": "2022-11-17T08:22:32.897474Z",
     "shell.execute_reply": "2022-11-17T08:22:32.896459Z"
    },
    "papermill": {
     "duration": 1.00074,
     "end_time": "2022-11-17T08:22:32.899781",
     "exception": false,
     "start_time": "2022-11-17T08:22:31.899041",
     "status": "completed"
    },
    "tags": []
   },
   "outputs": [
    {
     "data": {
      "text/html": [
       "<div>\n",
       "<style scoped>\n",
       "    .dataframe tbody tr th:only-of-type {\n",
       "        vertical-align: middle;\n",
       "    }\n",
       "\n",
       "    .dataframe tbody tr th {\n",
       "        vertical-align: top;\n",
       "    }\n",
       "\n",
       "    .dataframe thead th {\n",
       "        text-align: right;\n",
       "    }\n",
       "</style>\n",
       "<table border=\"1\" class=\"dataframe\">\n",
       "  <thead>\n",
       "    <tr style=\"text-align: right;\">\n",
       "      <th></th>\n",
       "      <th>discourse_id</th>\n",
       "      <th>essay_id</th>\n",
       "      <th>discourse_text</th>\n",
       "      <th>discourse_type</th>\n",
       "    </tr>\n",
       "  </thead>\n",
       "  <tbody>\n",
       "    <tr>\n",
       "      <th>0</th>\n",
       "      <td>a261b6e14276</td>\n",
       "      <td>D72CB1C11673</td>\n",
       "      <td>Making choices in life can be very difficult. ...</td>\n",
       "      <td>Lead</td>\n",
       "    </tr>\n",
       "    <tr>\n",
       "      <th>1</th>\n",
       "      <td>5a88900e7dc1</td>\n",
       "      <td>D72CB1C11673</td>\n",
       "      <td>Seeking multiple opinions can help a person ma...</td>\n",
       "      <td>Position</td>\n",
       "    </tr>\n",
       "    <tr>\n",
       "      <th>2</th>\n",
       "      <td>9790d835736b</td>\n",
       "      <td>D72CB1C11673</td>\n",
       "      <td>it can decrease stress levels</td>\n",
       "      <td>Claim</td>\n",
       "    </tr>\n",
       "    <tr>\n",
       "      <th>3</th>\n",
       "      <td>75ce6d68b67b</td>\n",
       "      <td>D72CB1C11673</td>\n",
       "      <td>a great chance to learn something new</td>\n",
       "      <td>Claim</td>\n",
       "    </tr>\n",
       "    <tr>\n",
       "      <th>4</th>\n",
       "      <td>93578d946723</td>\n",
       "      <td>D72CB1C11673</td>\n",
       "      <td>can be very helpful and beneficial.</td>\n",
       "      <td>Claim</td>\n",
       "    </tr>\n",
       "    <tr>\n",
       "      <th>5</th>\n",
       "      <td>2e214524dbe3</td>\n",
       "      <td>D72CB1C11673</td>\n",
       "      <td>When making a decision there is a chance that ...</td>\n",
       "      <td>Evidence</td>\n",
       "    </tr>\n",
       "    <tr>\n",
       "      <th>6</th>\n",
       "      <td>84812fc2ab9f</td>\n",
       "      <td>D72CB1C11673</td>\n",
       "      <td>Everyone is different and may have more experi...</td>\n",
       "      <td>Evidence</td>\n",
       "    </tr>\n",
       "    <tr>\n",
       "      <th>7</th>\n",
       "      <td>c668ff840720</td>\n",
       "      <td>D72CB1C11673</td>\n",
       "      <td>Seeking others opinion can be very helpful and...</td>\n",
       "      <td>Claim</td>\n",
       "    </tr>\n",
       "    <tr>\n",
       "      <th>8</th>\n",
       "      <td>739a6d00f44a</td>\n",
       "      <td>D72CB1C11673</td>\n",
       "      <td>Taking other peoples advice and doing what the...</td>\n",
       "      <td>Evidence</td>\n",
       "    </tr>\n",
       "    <tr>\n",
       "      <th>9</th>\n",
       "      <td>bcfae2c9a244</td>\n",
       "      <td>D72CB1C11673</td>\n",
       "      <td>You can learn from others experiences by seeki...</td>\n",
       "      <td>Concluding Statement</td>\n",
       "    </tr>\n",
       "  </tbody>\n",
       "</table>\n",
       "</div>"
      ],
      "text/plain": [
       "   discourse_id      essay_id  \\\n",
       "0  a261b6e14276  D72CB1C11673   \n",
       "1  5a88900e7dc1  D72CB1C11673   \n",
       "2  9790d835736b  D72CB1C11673   \n",
       "3  75ce6d68b67b  D72CB1C11673   \n",
       "4  93578d946723  D72CB1C11673   \n",
       "5  2e214524dbe3  D72CB1C11673   \n",
       "6  84812fc2ab9f  D72CB1C11673   \n",
       "7  c668ff840720  D72CB1C11673   \n",
       "8  739a6d00f44a  D72CB1C11673   \n",
       "9  bcfae2c9a244  D72CB1C11673   \n",
       "\n",
       "                                      discourse_text        discourse_type  \n",
       "0  Making choices in life can be very difficult. ...                  Lead  \n",
       "1  Seeking multiple opinions can help a person ma...              Position  \n",
       "2                     it can decrease stress levels                  Claim  \n",
       "3             a great chance to learn something new                  Claim  \n",
       "4               can be very helpful and beneficial.                  Claim  \n",
       "5  When making a decision there is a chance that ...              Evidence  \n",
       "6  Everyone is different and may have more experi...              Evidence  \n",
       "7  Seeking others opinion can be very helpful and...                 Claim  \n",
       "8  Taking other peoples advice and doing what the...              Evidence  \n",
       "9  You can learn from others experiences by seeki...  Concluding Statement  "
      ]
     },
     "execution_count": 13,
     "metadata": {},
     "output_type": "execute_result"
    }
   ],
   "source": [
    "test_data = pd.read_csv('/kaggle/input/feedback-prize-effectiveness/test.csv')\n",
    "test_data"
   ]
  },
  {
   "cell_type": "code",
   "execution_count": 14,
   "id": "79de8957",
   "metadata": {
    "execution": {
     "iopub.execute_input": "2022-11-17T08:22:34.787166Z",
     "iopub.status.busy": "2022-11-17T08:22:34.786455Z",
     "iopub.status.idle": "2022-11-17T08:22:34.802842Z",
     "shell.execute_reply": "2022-11-17T08:22:34.801976Z"
    },
    "papermill": {
     "duration": 0.997544,
     "end_time": "2022-11-17T08:22:34.804792",
     "exception": false,
     "start_time": "2022-11-17T08:22:33.807248",
     "status": "completed"
    },
    "tags": []
   },
   "outputs": [
    {
     "data": {
      "text/html": [
       "<div>\n",
       "<style scoped>\n",
       "    .dataframe tbody tr th:only-of-type {\n",
       "        vertical-align: middle;\n",
       "    }\n",
       "\n",
       "    .dataframe tbody tr th {\n",
       "        vertical-align: top;\n",
       "    }\n",
       "\n",
       "    .dataframe thead th {\n",
       "        text-align: right;\n",
       "    }\n",
       "</style>\n",
       "<table border=\"1\" class=\"dataframe\">\n",
       "  <thead>\n",
       "    <tr style=\"text-align: right;\">\n",
       "      <th></th>\n",
       "      <th>discourse_text</th>\n",
       "    </tr>\n",
       "  </thead>\n",
       "  <tbody>\n",
       "    <tr>\n",
       "      <th>0</th>\n",
       "      <td>Making choices in life can be very difficult. ...</td>\n",
       "    </tr>\n",
       "    <tr>\n",
       "      <th>1</th>\n",
       "      <td>Seeking multiple opinions can help a person ma...</td>\n",
       "    </tr>\n",
       "    <tr>\n",
       "      <th>2</th>\n",
       "      <td>it can decrease stress levels</td>\n",
       "    </tr>\n",
       "    <tr>\n",
       "      <th>3</th>\n",
       "      <td>a great chance to learn something new</td>\n",
       "    </tr>\n",
       "    <tr>\n",
       "      <th>4</th>\n",
       "      <td>can be very helpful and beneficial.</td>\n",
       "    </tr>\n",
       "    <tr>\n",
       "      <th>5</th>\n",
       "      <td>When making a decision there is a chance that ...</td>\n",
       "    </tr>\n",
       "    <tr>\n",
       "      <th>6</th>\n",
       "      <td>Everyone is different and may have more experi...</td>\n",
       "    </tr>\n",
       "    <tr>\n",
       "      <th>7</th>\n",
       "      <td>Seeking others opinion can be very helpful and...</td>\n",
       "    </tr>\n",
       "    <tr>\n",
       "      <th>8</th>\n",
       "      <td>Taking other peoples advice and doing what the...</td>\n",
       "    </tr>\n",
       "    <tr>\n",
       "      <th>9</th>\n",
       "      <td>You can learn from others experiences by seeki...</td>\n",
       "    </tr>\n",
       "  </tbody>\n",
       "</table>\n",
       "</div>"
      ],
      "text/plain": [
       "                                      discourse_text\n",
       "0  Making choices in life can be very difficult. ...\n",
       "1  Seeking multiple opinions can help a person ma...\n",
       "2                     it can decrease stress levels \n",
       "3             a great chance to learn something new \n",
       "4               can be very helpful and beneficial. \n",
       "5  When making a decision there is a chance that ...\n",
       "6  Everyone is different and may have more experi...\n",
       "7  Seeking others opinion can be very helpful and...\n",
       "8  Taking other peoples advice and doing what the...\n",
       "9  You can learn from others experiences by seeki..."
      ]
     },
     "execution_count": 14,
     "metadata": {},
     "output_type": "execute_result"
    }
   ],
   "source": [
    "test_data['discourse_type'] = test_data['discourse_type'].astype('category')\n",
    "test_data['new_type'] = test_data['discourse_type'].cat.codes                                                   \n",
    "test_X = test_data.copy()\n",
    "test_X2 = test_X.pop('new_type')\n",
    "test_X.pop('discourse_type')\n",
    "test_X.pop('essay_id')\n",
    "test_X.pop('discourse_id')\n",
    "test_X"
   ]
  },
  {
   "cell_type": "code",
   "execution_count": 15,
   "id": "c5e0787c",
   "metadata": {
    "execution": {
     "iopub.execute_input": "2022-11-17T08:22:36.703137Z",
     "iopub.status.busy": "2022-11-17T08:22:36.702772Z",
     "iopub.status.idle": "2022-11-17T08:22:36.709805Z",
     "shell.execute_reply": "2022-11-17T08:22:36.708869Z"
    },
    "papermill": {
     "duration": 0.938673,
     "end_time": "2022-11-17T08:22:36.711862",
     "exception": false,
     "start_time": "2022-11-17T08:22:35.773189",
     "status": "completed"
    },
    "tags": []
   },
   "outputs": [
    {
     "data": {
      "text/plain": [
       "array([[\"Making choices in life can be very difficult. People often ask for advice when they can not decide on one thing. It's always good to ask others for their advice when making a choice. When you have multiple opinions you have the ability to make the best choice for yourself. \"],\n",
       "       ['Seeking multiple opinions can help a person make a better choice '],\n",
       "       ['it can decrease stress levels '],\n",
       "       ['a great chance to learn something new '],\n",
       "       ['can be very helpful and beneficial. '],\n",
       "       ['When making a decision there is a chance that you can become very stressed and overwhelmed. Being stressed can cause a person to give up on what they are doing. Having multiple opinions from people can make choosing an option less difficult and more easier. The information that you receive from others may have a special meaning in the future. Other peoples opinion can make a person feel confident in making the right choice. '],\n",
       "       ['Everyone is different and may have more experience than you. Seeking other peoples opinion can cause you to gain a new skill or lesson. For example, someones advice could teach you how to do something the correct way. Many people are very different and have experience different things in life. Seeking advice from others can teach you a lot. We all learn from our mistakes in life, by sharing your past experiences you may prevent someone else from making the same mistake. '],\n",
       "       ['Seeking others opinion can be very helpful and beneficial. '],\n",
       "       ['Taking other peoples advice and doing what they say may lead to a great outcome. When you receive other opinions whether they are good or bad you will be able to look at them from a different point of view. For example, When a group of people give you advice on yourself, you then know how they look at you as a person. Everyone looks at certain things from a different prospective. How someone else looks at it may be how its supposed to be viewed in life. '],\n",
       "       ['You can learn from others experiences by seeking the advice that someone give you. Making decisions can cause stress on a person. Relating to someones advice may higher your self-esteem because you no longer feel left out. Ask others for advice when making a difficult decision. When you seek others opinion more opportunities are available fro yourself.\\xa0 ']],\n",
       "      dtype=object)"
      ]
     },
     "execution_count": 15,
     "metadata": {},
     "output_type": "execute_result"
    }
   ],
   "source": [
    "test_X = np.array(test_X)\n",
    "test_X2 = np.array(test_X2)\n",
    "test_X2 = convert_to_one_hot(test_X2, 7)\n",
    "test_X"
   ]
  },
  {
   "cell_type": "code",
   "execution_count": 16,
   "id": "ac4844c9",
   "metadata": {
    "execution": {
     "iopub.execute_input": "2022-11-17T08:22:38.817354Z",
     "iopub.status.busy": "2022-11-17T08:22:38.816917Z",
     "iopub.status.idle": "2022-11-17T08:22:38.828279Z",
     "shell.execute_reply": "2022-11-17T08:22:38.827402Z"
    },
    "papermill": {
     "duration": 0.99772,
     "end_time": "2022-11-17T08:22:38.830235",
     "exception": false,
     "start_time": "2022-11-17T08:22:37.832515",
     "status": "completed"
    },
    "tags": []
   },
   "outputs": [
    {
     "name": "stdout",
     "output_type": "stream",
     "text": [
      "(10, 836)\n"
     ]
    },
    {
     "data": {
      "text/plain": [
       "array([[2.31552e+05, 9.97750e+04, 1.88481e+05, ..., 1.00000e+00,\n",
       "        0.00000e+00, 0.00000e+00],\n",
       "       [3.23399e+05, 2.52664e+05, 2.70694e+05, ..., 0.00000e+00,\n",
       "        1.00000e+00, 0.00000e+00],\n",
       "       [1.93716e+05, 9.05480e+04, 1.18964e+05, ..., 0.00000e+00,\n",
       "        0.00000e+00, 0.00000e+00],\n",
       "       ...,\n",
       "       [3.23399e+05, 2.72587e+05, 2.70692e+05, ..., 0.00000e+00,\n",
       "        0.00000e+00, 0.00000e+00],\n",
       "       [3.52025e+05, 2.72583e+05, 2.80955e+05, ..., 0.00000e+00,\n",
       "        0.00000e+00, 0.00000e+00],\n",
       "       [3.94475e+05, 9.05480e+04, 2.19109e+05, ..., 1.00000e+00,\n",
       "        0.00000e+00, 0.00000e+00]])"
      ]
     },
     "execution_count": 16,
     "metadata": {},
     "output_type": "execute_result"
    }
   ],
   "source": [
    "test_X = np.reshape(test_X, (test_X.shape[0],))\n",
    "X_test_indices = sentences_to_indices(test_X, word_to_index, maxLen, train_X2)\n",
    "X_test_indices"
   ]
  },
  {
   "cell_type": "code",
   "execution_count": 17,
   "id": "099b3b63",
   "metadata": {
    "execution": {
     "iopub.execute_input": "2022-11-17T08:22:40.830057Z",
     "iopub.status.busy": "2022-11-17T08:22:40.829702Z",
     "iopub.status.idle": "2022-11-17T08:22:41.751296Z",
     "shell.execute_reply": "2022-11-17T08:22:41.750037Z"
    },
    "papermill": {
     "duration": 1.925706,
     "end_time": "2022-11-17T08:22:41.753552",
     "exception": false,
     "start_time": "2022-11-17T08:22:39.827846",
     "status": "completed"
    },
    "tags": []
   },
   "outputs": [
    {
     "data": {
      "text/plain": [
       "array([[0.5576536 , 0.28586677, 0.15647966],\n",
       "       [0.7000424 , 0.18754137, 0.11241616],\n",
       "       [0.5847583 , 0.28042296, 0.13481878],\n",
       "       [0.50573   , 0.22582953, 0.2684405 ],\n",
       "       [0.64339626, 0.2351025 , 0.12150124],\n",
       "       [0.53900373, 0.28010362, 0.18089266],\n",
       "       [0.50573   , 0.22582953, 0.2684405 ],\n",
       "       [0.64339626, 0.2351025 , 0.12150124],\n",
       "       [0.57910305, 0.24059653, 0.18030043],\n",
       "       [0.5576536 , 0.28586677, 0.15647966]], dtype=float32)"
      ]
     },
     "execution_count": 17,
     "metadata": {},
     "output_type": "execute_result"
    }
   ],
   "source": [
    "Y_pred = model.predict(X_test_indices)\n",
    "Y_pred"
   ]
  },
  {
   "cell_type": "code",
   "execution_count": 18,
   "id": "289d9525",
   "metadata": {
    "execution": {
     "iopub.execute_input": "2022-11-17T08:22:43.679739Z",
     "iopub.status.busy": "2022-11-17T08:22:43.679367Z",
     "iopub.status.idle": "2022-11-17T08:22:43.689794Z",
     "shell.execute_reply": "2022-11-17T08:22:43.688758Z"
    },
    "papermill": {
     "duration": 0.947214,
     "end_time": "2022-11-17T08:22:43.692602",
     "exception": false,
     "start_time": "2022-11-17T08:22:42.745388",
     "status": "completed"
    },
    "tags": []
   },
   "outputs": [
    {
     "data": {
      "text/html": [
       "<div>\n",
       "<style scoped>\n",
       "    .dataframe tbody tr th:only-of-type {\n",
       "        vertical-align: middle;\n",
       "    }\n",
       "\n",
       "    .dataframe tbody tr th {\n",
       "        vertical-align: top;\n",
       "    }\n",
       "\n",
       "    .dataframe thead th {\n",
       "        text-align: right;\n",
       "    }\n",
       "</style>\n",
       "<table border=\"1\" class=\"dataframe\">\n",
       "  <thead>\n",
       "    <tr style=\"text-align: right;\">\n",
       "      <th></th>\n",
       "      <th>discourse_id</th>\n",
       "    </tr>\n",
       "  </thead>\n",
       "  <tbody>\n",
       "    <tr>\n",
       "      <th>0</th>\n",
       "      <td>a261b6e14276</td>\n",
       "    </tr>\n",
       "    <tr>\n",
       "      <th>1</th>\n",
       "      <td>5a88900e7dc1</td>\n",
       "    </tr>\n",
       "    <tr>\n",
       "      <th>2</th>\n",
       "      <td>9790d835736b</td>\n",
       "    </tr>\n",
       "    <tr>\n",
       "      <th>3</th>\n",
       "      <td>75ce6d68b67b</td>\n",
       "    </tr>\n",
       "    <tr>\n",
       "      <th>4</th>\n",
       "      <td>93578d946723</td>\n",
       "    </tr>\n",
       "    <tr>\n",
       "      <th>5</th>\n",
       "      <td>2e214524dbe3</td>\n",
       "    </tr>\n",
       "    <tr>\n",
       "      <th>6</th>\n",
       "      <td>84812fc2ab9f</td>\n",
       "    </tr>\n",
       "    <tr>\n",
       "      <th>7</th>\n",
       "      <td>c668ff840720</td>\n",
       "    </tr>\n",
       "    <tr>\n",
       "      <th>8</th>\n",
       "      <td>739a6d00f44a</td>\n",
       "    </tr>\n",
       "    <tr>\n",
       "      <th>9</th>\n",
       "      <td>bcfae2c9a244</td>\n",
       "    </tr>\n",
       "  </tbody>\n",
       "</table>\n",
       "</div>"
      ],
      "text/plain": [
       "   discourse_id\n",
       "0  a261b6e14276\n",
       "1  5a88900e7dc1\n",
       "2  9790d835736b\n",
       "3  75ce6d68b67b\n",
       "4  93578d946723\n",
       "5  2e214524dbe3\n",
       "6  84812fc2ab9f\n",
       "7  c668ff840720\n",
       "8  739a6d00f44a\n",
       "9  bcfae2c9a244"
      ]
     },
     "execution_count": 18,
     "metadata": {},
     "output_type": "execute_result"
    }
   ],
   "source": [
    "submission = test_data[['discourse_id']].copy()\n",
    "submission"
   ]
  },
  {
   "cell_type": "code",
   "execution_count": 19,
   "id": "972c3ad8",
   "metadata": {
    "execution": {
     "iopub.execute_input": "2022-11-17T08:22:45.646383Z",
     "iopub.status.busy": "2022-11-17T08:22:45.645803Z",
     "iopub.status.idle": "2022-11-17T08:22:45.661166Z",
     "shell.execute_reply": "2022-11-17T08:22:45.660192Z"
    },
    "papermill": {
     "duration": 0.997568,
     "end_time": "2022-11-17T08:22:45.664181",
     "exception": false,
     "start_time": "2022-11-17T08:22:44.666613",
     "status": "completed"
    },
    "tags": []
   },
   "outputs": [
    {
     "data": {
      "text/html": [
       "<div>\n",
       "<style scoped>\n",
       "    .dataframe tbody tr th:only-of-type {\n",
       "        vertical-align: middle;\n",
       "    }\n",
       "\n",
       "    .dataframe tbody tr th {\n",
       "        vertical-align: top;\n",
       "    }\n",
       "\n",
       "    .dataframe thead th {\n",
       "        text-align: right;\n",
       "    }\n",
       "</style>\n",
       "<table border=\"1\" class=\"dataframe\">\n",
       "  <thead>\n",
       "    <tr style=\"text-align: right;\">\n",
       "      <th></th>\n",
       "      <th>discourse_id</th>\n",
       "      <th>Ineffective</th>\n",
       "      <th>Adequate</th>\n",
       "      <th>Effective</th>\n",
       "    </tr>\n",
       "  </thead>\n",
       "  <tbody>\n",
       "    <tr>\n",
       "      <th>0</th>\n",
       "      <td>a261b6e14276</td>\n",
       "      <td>0.156480</td>\n",
       "      <td>0.557654</td>\n",
       "      <td>0.285867</td>\n",
       "    </tr>\n",
       "    <tr>\n",
       "      <th>1</th>\n",
       "      <td>5a88900e7dc1</td>\n",
       "      <td>0.112416</td>\n",
       "      <td>0.700042</td>\n",
       "      <td>0.187541</td>\n",
       "    </tr>\n",
       "    <tr>\n",
       "      <th>2</th>\n",
       "      <td>9790d835736b</td>\n",
       "      <td>0.134819</td>\n",
       "      <td>0.584758</td>\n",
       "      <td>0.280423</td>\n",
       "    </tr>\n",
       "    <tr>\n",
       "      <th>3</th>\n",
       "      <td>75ce6d68b67b</td>\n",
       "      <td>0.268441</td>\n",
       "      <td>0.505730</td>\n",
       "      <td>0.225830</td>\n",
       "    </tr>\n",
       "    <tr>\n",
       "      <th>4</th>\n",
       "      <td>93578d946723</td>\n",
       "      <td>0.121501</td>\n",
       "      <td>0.643396</td>\n",
       "      <td>0.235103</td>\n",
       "    </tr>\n",
       "    <tr>\n",
       "      <th>5</th>\n",
       "      <td>2e214524dbe3</td>\n",
       "      <td>0.180893</td>\n",
       "      <td>0.539004</td>\n",
       "      <td>0.280104</td>\n",
       "    </tr>\n",
       "    <tr>\n",
       "      <th>6</th>\n",
       "      <td>84812fc2ab9f</td>\n",
       "      <td>0.268441</td>\n",
       "      <td>0.505730</td>\n",
       "      <td>0.225830</td>\n",
       "    </tr>\n",
       "    <tr>\n",
       "      <th>7</th>\n",
       "      <td>c668ff840720</td>\n",
       "      <td>0.121501</td>\n",
       "      <td>0.643396</td>\n",
       "      <td>0.235103</td>\n",
       "    </tr>\n",
       "    <tr>\n",
       "      <th>8</th>\n",
       "      <td>739a6d00f44a</td>\n",
       "      <td>0.180300</td>\n",
       "      <td>0.579103</td>\n",
       "      <td>0.240597</td>\n",
       "    </tr>\n",
       "    <tr>\n",
       "      <th>9</th>\n",
       "      <td>bcfae2c9a244</td>\n",
       "      <td>0.156480</td>\n",
       "      <td>0.557654</td>\n",
       "      <td>0.285867</td>\n",
       "    </tr>\n",
       "  </tbody>\n",
       "</table>\n",
       "</div>"
      ],
      "text/plain": [
       "   discourse_id  Ineffective  Adequate  Effective\n",
       "0  a261b6e14276     0.156480  0.557654   0.285867\n",
       "1  5a88900e7dc1     0.112416  0.700042   0.187541\n",
       "2  9790d835736b     0.134819  0.584758   0.280423\n",
       "3  75ce6d68b67b     0.268441  0.505730   0.225830\n",
       "4  93578d946723     0.121501  0.643396   0.235103\n",
       "5  2e214524dbe3     0.180893  0.539004   0.280104\n",
       "6  84812fc2ab9f     0.268441  0.505730   0.225830\n",
       "7  c668ff840720     0.121501  0.643396   0.235103\n",
       "8  739a6d00f44a     0.180300  0.579103   0.240597\n",
       "9  bcfae2c9a244     0.156480  0.557654   0.285867"
      ]
     },
     "execution_count": 19,
     "metadata": {},
     "output_type": "execute_result"
    }
   ],
   "source": [
    "submission['Ineffective'] = Y_pred[:, 2]\n",
    "submission['Adequate'] = Y_pred[:, 0]\n",
    "submission['Effective'] = Y_pred[:, 1]\n",
    "submission"
   ]
  },
  {
   "cell_type": "code",
   "execution_count": 20,
   "id": "86582768",
   "metadata": {
    "execution": {
     "iopub.execute_input": "2022-11-17T08:22:47.583745Z",
     "iopub.status.busy": "2022-11-17T08:22:47.583313Z",
     "iopub.status.idle": "2022-11-17T08:22:47.591393Z",
     "shell.execute_reply": "2022-11-17T08:22:47.590425Z"
    },
    "papermill": {
     "duration": 1.002637,
     "end_time": "2022-11-17T08:22:47.593723",
     "exception": false,
     "start_time": "2022-11-17T08:22:46.591086",
     "status": "completed"
    },
    "tags": []
   },
   "outputs": [],
   "source": [
    "submission.to_csv('submission.csv', index=False)"
   ]
  }
 ],
 "metadata": {
  "kernelspec": {
   "display_name": "Python 3",
   "language": "python",
   "name": "python3"
  },
  "language_info": {
   "codemirror_mode": {
    "name": "ipython",
    "version": 3
   },
   "file_extension": ".py",
   "mimetype": "text/x-python",
   "name": "python",
   "nbconvert_exporter": "python",
   "pygments_lexer": "ipython3",
   "version": "3.7.12"
  },
  "papermill": {
   "default_parameters": {},
   "duration": 2058.885293,
   "end_time": "2022-11-17T08:22:51.819796",
   "environment_variables": {},
   "exception": null,
   "input_path": "__notebook__.ipynb",
   "output_path": "__notebook__.ipynb",
   "parameters": {},
   "start_time": "2022-11-17T07:48:32.934503",
   "version": "2.3.4"
  }
 },
 "nbformat": 4,
 "nbformat_minor": 5
}
